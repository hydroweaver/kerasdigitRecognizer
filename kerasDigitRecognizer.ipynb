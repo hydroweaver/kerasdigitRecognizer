{
 "cells": [
  {
   "cell_type": "code",
   "execution_count": null,
   "metadata": {},
   "outputs": [],
   "source": [
    "'''install stuff'''\n",
    "\n",
    "!pip install --upgrade pip\n",
    "!pip install tensorflow\n",
    "!pip install keras\n",
    "!pip install matplotlib"
   ]
  },
  {
   "cell_type": "code",
   "execution_count": null,
   "metadata": {},
   "outputs": [],
   "source": [
    "'''import dataset & other stuff'''\n",
    "from keras.datasets import mnist\n",
    "from keras import models\n",
    "from keras import layers\n",
    "from keras.utils import to_categorical\n",
    "import random\n",
    "import numpy as np\n",
    "import matplotlib.pyplot as plt"
   ]
  },
  {
   "cell_type": "code",
   "execution_count": null,
   "metadata": {},
   "outputs": [],
   "source": [
    "'''split data from mnist'''\n",
    "(train_images, train_labels), (test_images, test_labels) = mnist.load_data()"
   ]
  },
  {
   "cell_type": "code",
   "execution_count": null,
   "metadata": {},
   "outputs": [],
   "source": [
    "'''create model with 2 layers'''\n",
    "network = models.Sequential()\n",
    "'''layer 1'''\n",
    "network.add(layers.Dense(512, activation='relu', input_shape=(28*28,)))\n",
    "'''layer 2'''\n",
    "network.add(layers.Dense(10, activation='softmax'))"
   ]
  },
  {
   "cell_type": "code",
   "execution_count": null,
   "metadata": {},
   "outputs": [],
   "source": [
    "'''define the model'''\n",
    "network.compile(optimizer='rmsprop', loss='categorical_crossentropy', metrics=['accuracy'])"
   ]
  },
  {
   "cell_type": "code",
   "execution_count": null,
   "metadata": {},
   "outputs": [],
   "source": [
    "'''transform from 3D to 2D for train and test data'''\n",
    "train_images = train_images.reshape((60000, 28*28))\n",
    "train_images = train_images.astype('float32') / 255\n",
    "\n",
    "test_images = test_images.reshape((10000, 28*28))\n",
    "test_images = test_images.astype('float32') / 255"
   ]
  },
  {
   "cell_type": "code",
   "execution_count": null,
   "metadata": {},
   "outputs": [],
   "source": [
    "'''need to read on this...'''\n",
    "train_labels = to_categorical(train_labels)\n",
    "test_labels = to_categorical(test_labels)"
   ]
  },
  {
   "cell_type": "code",
   "execution_count": null,
   "metadata": {},
   "outputs": [],
   "source": [
    "'''fit the model on training'''\n",
    "network.fit(train_images, train_labels, epochs = 5, batch_size=128)"
   ]
  },
  {
   "cell_type": "code",
   "execution_count": null,
   "metadata": {},
   "outputs": [],
   "source": [
    "'''calc accuracy'''\n",
    "test_loss , test_acc = network.evaluate(test_images, test_labels)"
   ]
  },
  {
   "cell_type": "code",
   "execution_count": 16,
   "metadata": {},
   "outputs": [
    {
     "name": "stdout",
     "output_type": "stream",
     "text": [
      "\n",
      " Random Image selected from MNIST: \n"
     ]
    },
    {
     "data": {
      "image/png": "[encoded data removed]",
      "text/plain": [
       "<Figure size 432x288 with 1 Axes>"
      ]
     },
     "metadata": {},
     "output_type": "display_data"
    },
    {
     "name": "stdout",
     "output_type": "stream",
     "text": [
      "The predicted value from the model is:  2\n"
     ]
    }
   ],
   "source": [
    "'''get random image and predict the digit'''\n",
    "(train2_images, train_labels), (test2_images, test2_labels) = mnist.load_data()\n",
    "random_image = random.choice(train2_images[:])\n",
    "plt.imshow(random_image, cmap=plt.cm.binary)\n",
    "print('\\n Random Image selected from MNIST: ')\n",
    "plt.show()\n",
    "\n",
    "random_image = random_image.reshape(28*28)\n",
    "random_image = random_image.astype('float32') / 255\n",
    "\n",
    "\n",
    "def prd(single_image):\n",
    "    test = np.array([single_image])\n",
    "    x = np.array([])\n",
    "    x = network.predict(test, batch_size=None, verbose=0, steps=None)\n",
    "    return x\n",
    "\n",
    "print('The predicted value from the model is: ', np.argmax(prd(random_image)))"
   ]
  }
 ],
 "metadata": {
  "kernelspec": {
   "display_name": "conda_python3",
   "language": "python",
   "name": "conda_python3"
  },
  "language_info": {
   "codemirror_mode": {
    "name": "ipython",
    "version": 3
   },
   "file_extension": ".py",
   "mimetype": "text/x-python",
   "name": "python",
   "nbconvert_exporter": "python",
   "pygments_lexer": "ipython3",
   "version": "3.6.5"
  }
 },
 "nbformat": 4,
 "nbformat_minor": 2
}
